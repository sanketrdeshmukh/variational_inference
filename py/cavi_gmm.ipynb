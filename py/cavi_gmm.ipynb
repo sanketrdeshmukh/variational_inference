{
 "cells": [
  {
   "cell_type": "markdown",
   "metadata": {},
   "source": [
    "## Implementing CAVI - Mean Field VI - GMM"
   ]
  },
  {
   "cell_type": "code",
   "execution_count": 44,
   "metadata": {},
   "outputs": [],
   "source": [
    "import numpy as np\n",
    "import matplotlib.pyplot as plt\n",
    "import matplotlib as mpl\n",
    "\n",
    "mpl.rcParams[\"figure.figsize\"] = 15,7.5"
   ]
  },
  {
   "cell_type": "code",
   "execution_count": 45,
   "metadata": {},
   "outputs": [],
   "source": [
    "# number of clusters\n",
    "K = 10\n",
    "np.random.seed(13)\n",
    "\n",
    "# generate c_i as a vector\n",
    "def generate_cluster_vector(K):\n",
    "    vec = [0]*K\n",
    "    vec[np.random.choice(range(K))] = 1\n",
    "    return vec\n",
    "\n",
    "# generate main mu\n",
    "sigma = 15\n",
    "mu = np.array([0.0]*K)\n",
    "for i in range(K):\n",
    "    mu[i] = np.random.normal(loc=0, scale=sigma)\n",
    "\n",
    "# generate data\n",
    "def generate_data_gmm(K, mu, size=1000):\n",
    "    x_data = np.array([0.0]*size)\n",
    "    y_data = np.array([0.0]*size)\n",
    "    for i in range(size):\n",
    "        mu_temp = sum(generate_cluster_vector(K) * mu)\n",
    "        x_data[i] = np.random.normal(loc=mu_temp, scale=1, size=1)\n",
    "        y_data[i] = mu_temp\n",
    "        \n",
    "    return x_data ,y_data   \n",
    "\n",
    "x_data,y_data = generate_data_gmm(K,mu)"
   ]
  },
  {
   "cell_type": "code",
   "execution_count": 57,
   "metadata": {},
   "outputs": [
    {
     "data": {
      "image/png": "[encoded data removed]",
      "text/plain": [
       "<Figure size 1080x540 with 1 Axes>"
      ]
     },
     "metadata": {
      "needs_background": "light"
     },
     "output_type": "display_data"
    }
   ],
   "source": [
    "plt.hist(x_data,bins=100,histtype=\"bar\")\n",
    "plt.grid(True)\n",
    "plt.title(\"Data\")\n",
    "plt.show()"
   ]
  },
  {
   "cell_type": "code",
   "execution_count": null,
   "metadata": {},
   "outputs": [],
   "source": [
    "def CAVI(x_data, K, prior_var = 10):\n",
    "    # number of samples\n",
    "    n = x_data.shape[0]\n",
    "    \n",
    "    # initialize m_k, s_k and c_i\n",
    "    m = np.array([0.0]*K)\n",
    "    s = np.array([0.0]*K)\n",
    "\n",
    "    m_new = np.array([0.0]*K)\n",
    "    s_new = np.array([0.0]*K)\n",
    "    \n",
    "    \n",
    "    for i in range(K):\n",
    "        m[i] = np.random.normal(0, prior_var)\n",
    "        s[i] = abs(np.random.normal(0, prior_var))\n",
    "     \n",
    "    # initialize the categorical variables\n",
    "    cat_var = np.zeros((n,K))\n",
    "    for i in range(n):\n",
    "        cat_var[i, np.random.choice(K)] = 1\n",
    "    \n",
    "    while(True):\n",
    "        \n",
    "        for i in range(n):\n",
    "            cat_var[i,] = np.exp(m*x_data[i] - (s+ m**2)/2)\n",
    "            cat_var[i,] = cat_var[i,]/np.sum(cat_var[i,])\n",
    "        \n",
    "        for k in range(K):\n",
    "            m_new = cat_var[,k]*"
   ]
  }
 ],
 "metadata": {
  "kernelspec": {
   "display_name": "Python 3",
   "language": "python",
   "name": "python3"
  },
  "language_info": {
   "codemirror_mode": {
    "name": "ipython",
    "version": 3
   },
   "file_extension": ".py",
   "mimetype": "text/x-python",
   "name": "python",
   "nbconvert_exporter": "python",
   "pygments_lexer": "ipython3",
   "version": "3.5.2"
  }
 },
 "nbformat": 4,
 "nbformat_minor": 2
}
